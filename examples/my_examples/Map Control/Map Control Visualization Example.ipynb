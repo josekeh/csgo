{
 "cells": [
  {
   "cell_type": "markdown",
   "metadata": {},
   "source": [
    "## Map Control Visualization Notebook"
   ]
  },
  {
   "cell_type": "markdown",
   "metadata": {},
   "source": [
    "Hi! This is my first notebook on my attempt to quantify/visualize map control. Even though this work is specifically on CS:GO, I'm sure it can be adapted for other games, either FPS or not."
   ]
  },
  {
   "cell_type": "markdown",
   "metadata": {},
   "source": [
    "### Import Libraries"
   ]
  },
  {
   "cell_type": "code",
   "execution_count": 54,
   "metadata": {},
   "outputs": [],
   "source": [
    "import pandas as pd\n",
    "\n",
    "from csgo.parser import DemoParser\n",
    "import time\n",
    "import json\n",
    "import numpy as np\n",
    "import pandas as pd\n",
    "from matplotlib import pyplot as plt\n",
    "import matplotlib\n",
    "from matplotlib import patches\n",
    "import imageio"
   ]
  },
  {
   "cell_type": "markdown",
   "metadata": {},
   "source": [
    "### Load In Demo Data"
   ]
  },
  {
   "cell_type": "code",
   "execution_count": 55,
   "metadata": {
    "scrolled": true
   },
   "outputs": [
    {
     "name": "stderr",
     "output_type": "stream",
     "text": [
      "21:12:10 [INFO] Go version>=1.14.0\n",
      "21:12:10 [INFO] Initialized CSGODemoParser with demofile /Users/adithyansujithkumar/Documents/Projects/fps/csgo_stuff/csgo/videos/ELEAGUE-Major2018-faze-vs-cloud9-bo3/faze-vs-cloud9-m3-inferno.dem\n",
      "21:12:10 [INFO] Setting demo id to FAZE-C9-Inferno\n",
      "21:12:10 [INFO] Setting parse rate to 128\n",
      "21:12:10 [INFO] Setting trade time to 5\n",
      "21:12:10 [INFO] Setting buy style to hltv\n",
      "21:12:10 [INFO] Rollup damages set to False\n",
      "21:12:10 [INFO] Parse frames set to True\n",
      "21:12:11 [INFO] Running Golang parser from /Users/adithyansujithkumar/miniconda3/lib/python3.8/site-packages/csgo-1.0-py3.8.egg/csgo/parser/\n",
      "21:12:11 [INFO] Looking for file at /Users/adithyansujithkumar/Documents/Projects/fps/csgo_stuff/csgo/videos/ELEAGUE-Major2018-faze-vs-cloud9-bo3/faze-vs-cloud9-m3-inferno.dem\n",
      "21:12:23 [INFO] Wrote demo parse output to FAZE-C9-Inferno.json\n",
      "21:12:23 [INFO] Reading in JSON from FAZE-C9-Inferno.json\n",
      "21:12:24 [INFO] JSON data loaded, available in the `json` attribute to parser\n",
      "21:12:24 [INFO] Successfully parsed JSON output\n",
      "21:12:24 [INFO] Successfully returned JSON output\n",
      "21:12:25 [INFO] Returned dataframe output\n"
     ]
    }
   ],
   "source": [
    "# Create the parser object.\n",
    "# Set log=True above if you want to produce a logfile for the parser.\n",
    "\n",
    "# The JSON for this game is in the repo. The following two links are the \n",
    "# demos I've been using for Dust2 [Endpoint v CPH] and Inferno [2018 Boston Major Faze v c9] (respectively)\n",
    "# https://www.hltv.org/matches/2352373/endpoint-vs-copenhagen-flames-esea-premier-season-38-europe-relegation\n",
    "# https://www.hltv.org/stats/matches/mapstatsid/60219/faze-vs-cloud9\n",
    "# You can also load in your own demofiles. If you want to run the notebook on other maps, \n",
    "# you can use the navtransitiongen folder to help you generate the necessary data.\n",
    "# Information on this transition data is further down the notebook\n",
    "\n",
    "demo_filepath = \"../../../videos/ELEAGUE-Major2018-faze-vs-cloud9-bo3/faze-vs-cloud9-m3-inferno.dem\"\n",
    "\n",
    "demo_parser = DemoParser(demofile = demo_filepath, demo_id = \"FAZE-C9-Inferno\", parse_rate=128)\n",
    "\n",
    "# Parse the demofile, output results to a dictionary and a dataframe.\n",
    "#data = demo_parser.parse().clean_rounds()\n",
    "data_df = demo_parser.parse(return_type=\"df\")\n",
    "demo_parser.clean_rounds()\n",
    "#new_data_df = demo_parser.clean_rounds()\n"
   ]
  },
  {
   "cell_type": "markdown",
   "metadata": {},
   "source": [
    "### Calculate Tile Values"
   ]
  },
  {
   "cell_type": "markdown",
   "metadata": {},
   "source": [
    "The main objective of my map control idea was to figure out how much space/control did each team have on the map spatially. This first implementation is a distance based idea. Each map in CS:GO has a set of navigation (nav) tiles, which collectively make up the navigable surfacesof the map. So, these nav tiles can be used to somewhat cluster player positions together. This allows us to have a set of nav tiles to describe the positioning of each team. Now we can calculate a [Breadth First Search-based](https://www.geeksforgeeks.org/breadth-first-search-or-bfs-for-a-graph/) (BFS) metric for the neighboring tiles to see how much each team \"controls\" that tile. The metric is calculated by running BFS from each tile for a max traversal length of n (10 for this notebook's example). Then, a tile's value can be represented as a function of the traversal length to get to it from the player's original nav tile. The function used in this notebook is $f_t(x) = x/10$ where x is the number of nav tiles traversed to get from a player's tile p to a tile t. Values for a tile are tracked in an array as it is possible for an array to get a value from multiple players' tiles if they are within n tiles to multiple players."
   ]
  },
  {
   "cell_type": "code",
   "execution_count": 56,
   "metadata": {},
   "outputs": [],
   "source": [
    "def tile_values_snapshot(ctTilesWanted, tTilesWanted, neighborInfo):\n",
    "    \"\"\"\n",
    "    Purpose: Iteratively run BFS from each player's current nav tile to calculate the \n",
    "    tile values for the current timestep/snapshot\n",
    "    \n",
    "    Inputs:\n",
    "    ctTilesWanted -> Python List of Nav Tile IDs where CT players are located\n",
    "    tTilesWanted -> Python List of Nav Tile IDs where T players are located\n",
    "    neighborInfo -> Dictionary where key is Nav Tile ID and value is list of IDs for its neighbors\n",
    "    \n",
    "    Outputs:\n",
    "    Tuple containing two dictionaries (CTDict, TDict) where the key is a Nav Tile ID and the value\n",
    "    is the tile's value for that specific team\n",
    "    \"\"\"\n",
    "    \n",
    "    funcCTIds = [str(i) for i in list(ctTilesWanted)]\n",
    "    funcTIds = [str(i) for i in list(tTilesWanted)]\n",
    "\n",
    "    ### Run BFS For CT Tiles\n",
    "    ctDict = {}\n",
    "    for curId in funcCTIds:\n",
    "        startVal = 10\n",
    "        stepsize = 1\n",
    "        tilesSeen = set()\n",
    "        stack = []\n",
    "        startingNode = (curId, startVal)\n",
    "        stack.append(startingNode)\n",
    "        while stack[0][1] > 0:\n",
    "            curId, curVal = stack.pop(0)\n",
    "            if curId not in tilesSeen:\n",
    "                tilesSeen.add(curId)\n",
    "                curTileValues = ctDict.get(int(curId), ([]))\n",
    "                curTileValues.append(curVal/startVal)\n",
    "                ctDict[int(curId)] = (curTileValues)\n",
    "                for neighbor in neighborInfo[curId]:\n",
    "                    stack.append((neighbor, curVal - stepsize))\n",
    "\n",
    "\n",
    "    ### Run BFS For T Tiles\n",
    "    tDict = {}\n",
    "    for curId in funcTIds:\n",
    "        \n",
    "        startVal = 10\n",
    "        stepsize = 1\n",
    "        tilesSeen = set()\n",
    "        stack = []\n",
    "        startingNode = (curId, startVal)\n",
    "        stack.append(startingNode)\n",
    "        while stack[0][1] > 0:\n",
    "            curId, curVal = stack.pop(0)\n",
    "            if curId not in tilesSeen:\n",
    "                tilesSeen.add(curId)\n",
    "                curTileValues = tDict.get(int(curId), ([]))\n",
    "                curTileValues.append(curVal/startVal)\n",
    "                tDict[int(curId)] = (curTileValues)\n",
    "                for neighbor in neighborInfo[curId]:\n",
    "                    stack.append((neighbor, curVal - stepsize))\n",
    "                    \n",
    "    return ctDict, tDict\n"
   ]
  },
  {
   "cell_type": "markdown",
   "metadata": {},
   "source": [
    "#### Load in Nav Tile Transitions"
   ]
  },
  {
   "cell_type": "code",
   "execution_count": 57,
   "metadata": {},
   "outputs": [],
   "source": [
    "# Nav tile transitions were calculated using the csgonavparse library\n",
    "# https://github.com/pnxenopoulos/csgonavparse\n",
    "#\n",
    "# Navtranstiongen allows for users to more easily generate the necessary data\n",
    "# they need for their specific maps. shoutout @ivanhrabcak! For example, if \n",
    "# you want to visualize a round on mirage, you can use navtranstiongen to \n",
    "# generate the transition json file for mirage. Also change the map name furhter down \n",
    "# in the notebook to your specific map if you are changing it\n",
    "\n",
    "\n",
    "\n",
    "filepath_cur = './de_inferno_transitions.json'\n",
    "# Opening JSON file\n",
    "with open(filepath_cur) as json_file:\n",
    "    data = json.load(json_file)"
   ]
  },
  {
   "cell_type": "markdown",
   "metadata": {},
   "source": [
    "#### Calculate values"
   ]
  },
  {
   "cell_type": "code",
   "execution_count": 58,
   "metadata": {},
   "outputs": [],
   "source": [
    "roundWanted = 31\n",
    "roundCTTiles = list(data_df['playerFrames'][(data_df['playerFrames']['roundNum'] == roundWanted) & (data_df['playerFrames']['side'] == 'CT') & (data_df['playerFrames']['isAlive'])].groupby(by = 'seconds')['areaID'].apply(list))\n",
    "roundTTiles = list(data_df['playerFrames'][(data_df['playerFrames']['roundNum'] == roundWanted) & (data_df['playerFrames']['side'] == 'T') & (data_df['playerFrames']['isAlive'])].groupby(by = 'seconds')['areaID'].apply(list))\n",
    "tmpRoundSecArr = list(data_df['playerFrames'][(data_df['playerFrames']['roundNum'] == roundWanted)]['seconds'].unique())\n",
    "#print(len(roundCTTiles), len(roundTTiles))\n",
    "combinedRoundTiles = zip(roundCTTiles, roundTTiles)\n",
    "tileValuesRound = [tile_values_snapshot(i, j, data) for i, j in combinedRoundTiles]\n",
    "\n"
   ]
  },
  {
   "cell_type": "markdown",
   "metadata": {},
   "source": [
    "#### Load in Nav Tile Metadata"
   ]
  },
  {
   "cell_type": "code",
   "execution_count": 59,
   "metadata": {},
   "outputs": [
    {
     "data": {
      "text/html": [
       "<div>\n",
       "<style scoped>\n",
       "    .dataframe tbody tr th:only-of-type {\n",
       "        vertical-align: middle;\n",
       "    }\n",
       "\n",
       "    .dataframe tbody tr th {\n",
       "        vertical-align: top;\n",
       "    }\n",
       "\n",
       "    .dataframe thead th {\n",
       "        text-align: right;\n",
       "    }\n",
       "</style>\n",
       "<table border=\"1\" class=\"dataframe\">\n",
       "  <thead>\n",
       "    <tr style=\"text-align: right;\">\n",
       "      <th></th>\n",
       "      <th>MapName</th>\n",
       "      <th>AreaId</th>\n",
       "      <th>AreaName</th>\n",
       "      <th>NorthWestX</th>\n",
       "      <th>NorthWestY</th>\n",
       "      <th>NorthWestZ</th>\n",
       "      <th>SouthEastX</th>\n",
       "      <th>SouthEastY</th>\n",
       "      <th>SouthEastZ</th>\n",
       "      <th>Connections</th>\n",
       "      <th>HidingSpots</th>\n",
       "      <th>EarliestOccupyTimeFirstTeam</th>\n",
       "      <th>EarliestOccupyTimeSecondTeam</th>\n",
       "    </tr>\n",
       "  </thead>\n",
       "  <tbody>\n",
       "    <tr>\n",
       "      <th>0</th>\n",
       "      <td>de_ancient</td>\n",
       "      <td>152</td>\n",
       "      <td>Outside</td>\n",
       "      <td>260.60</td>\n",
       "      <td>642.80</td>\n",
       "      <td>-19.416094</td>\n",
       "      <td>280.60</td>\n",
       "      <td>627.80</td>\n",
       "      <td>18.666107</td>\n",
       "      <td>10</td>\n",
       "      <td>0</td>\n",
       "      <td>8.199903</td>\n",
       "      <td>15.538094</td>\n",
       "    </tr>\n",
       "    <tr>\n",
       "      <th>1</th>\n",
       "      <td>de_ancient</td>\n",
       "      <td>2559</td>\n",
       "      <td>MainHall</td>\n",
       "      <td>155.60</td>\n",
       "      <td>512.80</td>\n",
       "      <td>75.847092</td>\n",
       "      <td>160.60</td>\n",
       "      <td>502.80</td>\n",
       "      <td>72.037033</td>\n",
       "      <td>3</td>\n",
       "      <td>0</td>\n",
       "      <td>12.804793</td>\n",
       "      <td>13.120758</td>\n",
       "    </tr>\n",
       "    <tr>\n",
       "      <th>2</th>\n",
       "      <td>de_ancient</td>\n",
       "      <td>2748</td>\n",
       "      <td>Ruins</td>\n",
       "      <td>725.60</td>\n",
       "      <td>732.80</td>\n",
       "      <td>-29.636036</td>\n",
       "      <td>730.60</td>\n",
       "      <td>722.80</td>\n",
       "      <td>-15.349043</td>\n",
       "      <td>3</td>\n",
       "      <td>1</td>\n",
       "      <td>7.245784</td>\n",
       "      <td>19.397285</td>\n",
       "    </tr>\n",
       "    <tr>\n",
       "      <th>3</th>\n",
       "      <td>de_ancient</td>\n",
       "      <td>2835</td>\n",
       "      <td>Middle</td>\n",
       "      <td>540.60</td>\n",
       "      <td>477.80</td>\n",
       "      <td>65.784042</td>\n",
       "      <td>565.60</td>\n",
       "      <td>457.80</td>\n",
       "      <td>68.031197</td>\n",
       "      <td>2</td>\n",
       "      <td>1</td>\n",
       "      <td>13.451628</td>\n",
       "      <td>8.742879</td>\n",
       "    </tr>\n",
       "    <tr>\n",
       "      <th>4</th>\n",
       "      <td>de_ancient</td>\n",
       "      <td>2927</td>\n",
       "      <td>SideHall</td>\n",
       "      <td>315.60</td>\n",
       "      <td>507.80</td>\n",
       "      <td>103.918999</td>\n",
       "      <td>340.60</td>\n",
       "      <td>492.80</td>\n",
       "      <td>104.806747</td>\n",
       "      <td>2</td>\n",
       "      <td>0</td>\n",
       "      <td>15.876244</td>\n",
       "      <td>11.825044</td>\n",
       "    </tr>\n",
       "    <tr>\n",
       "      <th>...</th>\n",
       "      <td>...</td>\n",
       "      <td>...</td>\n",
       "      <td>...</td>\n",
       "      <td>...</td>\n",
       "      <td>...</td>\n",
       "      <td>...</td>\n",
       "      <td>...</td>\n",
       "      <td>...</td>\n",
       "      <td>...</td>\n",
       "      <td>...</td>\n",
       "      <td>...</td>\n",
       "      <td>...</td>\n",
       "      <td>...</td>\n",
       "    </tr>\n",
       "    <tr>\n",
       "      <th>10592</th>\n",
       "      <td>de_vertigo</td>\n",
       "      <td>4366</td>\n",
       "      <td>TSpawn</td>\n",
       "      <td>417.00</td>\n",
       "      <td>809.25</td>\n",
       "      <td>11488.031250</td>\n",
       "      <td>429.50</td>\n",
       "      <td>790.50</td>\n",
       "      <td>11488.031250</td>\n",
       "      <td>4</td>\n",
       "      <td>0</td>\n",
       "      <td>0.404472</td>\n",
       "      <td>17.929251</td>\n",
       "    </tr>\n",
       "    <tr>\n",
       "      <th>10593</th>\n",
       "      <td>de_vertigo</td>\n",
       "      <td>4446</td>\n",
       "      <td>Bridge</td>\n",
       "      <td>623.25</td>\n",
       "      <td>553.00</td>\n",
       "      <td>11501.278320</td>\n",
       "      <td>629.50</td>\n",
       "      <td>546.75</td>\n",
       "      <td>11488.031250</td>\n",
       "      <td>4</td>\n",
       "      <td>0</td>\n",
       "      <td>10.745050</td>\n",
       "      <td>16.382465</td>\n",
       "    </tr>\n",
       "    <tr>\n",
       "      <th>10594</th>\n",
       "      <td>de_vertigo</td>\n",
       "      <td>4490</td>\n",
       "      <td>BombsiteB</td>\n",
       "      <td>173.25</td>\n",
       "      <td>346.75</td>\n",
       "      <td>11776.031250</td>\n",
       "      <td>192.00</td>\n",
       "      <td>328.00</td>\n",
       "      <td>11776.031250</td>\n",
       "      <td>4</td>\n",
       "      <td>1</td>\n",
       "      <td>15.058154</td>\n",
       "      <td>8.052150</td>\n",
       "    </tr>\n",
       "    <tr>\n",
       "      <th>10595</th>\n",
       "      <td>de_vertigo</td>\n",
       "      <td>5000</td>\n",
       "      <td>ARamp</td>\n",
       "      <td>573.25</td>\n",
       "      <td>621.75</td>\n",
       "      <td>11573.395508</td>\n",
       "      <td>579.50</td>\n",
       "      <td>609.25</td>\n",
       "      <td>11560.895508</td>\n",
       "      <td>5</td>\n",
       "      <td>0</td>\n",
       "      <td>11.585015</td>\n",
       "      <td>14.865434</td>\n",
       "    </tr>\n",
       "    <tr>\n",
       "      <th>10596</th>\n",
       "      <td>de_vertigo</td>\n",
       "      <td>3294</td>\n",
       "      <td>ARamp</td>\n",
       "      <td>160.75</td>\n",
       "      <td>640.50</td>\n",
       "      <td>11488.031250</td>\n",
       "      <td>173.25</td>\n",
       "      <td>634.25</td>\n",
       "      <td>11488.031250</td>\n",
       "      <td>3</td>\n",
       "      <td>0</td>\n",
       "      <td>5.609235</td>\n",
       "      <td>19.288990</td>\n",
       "    </tr>\n",
       "  </tbody>\n",
       "</table>\n",
       "<p>10597 rows × 13 columns</p>\n",
       "</div>"
      ],
      "text/plain": [
       "          MapName  AreaId   AreaName  NorthWestX  NorthWestY    NorthWestZ  \\\n",
       "0      de_ancient     152    Outside      260.60      642.80    -19.416094   \n",
       "1      de_ancient    2559   MainHall      155.60      512.80     75.847092   \n",
       "2      de_ancient    2748      Ruins      725.60      732.80    -29.636036   \n",
       "3      de_ancient    2835     Middle      540.60      477.80     65.784042   \n",
       "4      de_ancient    2927   SideHall      315.60      507.80    103.918999   \n",
       "...           ...     ...        ...         ...         ...           ...   \n",
       "10592  de_vertigo    4366     TSpawn      417.00      809.25  11488.031250   \n",
       "10593  de_vertigo    4446     Bridge      623.25      553.00  11501.278320   \n",
       "10594  de_vertigo    4490  BombsiteB      173.25      346.75  11776.031250   \n",
       "10595  de_vertigo    5000      ARamp      573.25      621.75  11573.395508   \n",
       "10596  de_vertigo    3294      ARamp      160.75      640.50  11488.031250   \n",
       "\n",
       "       SouthEastX  SouthEastY    SouthEastZ  Connections  HidingSpots  \\\n",
       "0          280.60      627.80     18.666107           10            0   \n",
       "1          160.60      502.80     72.037033            3            0   \n",
       "2          730.60      722.80    -15.349043            3            1   \n",
       "3          565.60      457.80     68.031197            2            1   \n",
       "4          340.60      492.80    104.806747            2            0   \n",
       "...           ...         ...           ...          ...          ...   \n",
       "10592      429.50      790.50  11488.031250            4            0   \n",
       "10593      629.50      546.75  11488.031250            4            0   \n",
       "10594      192.00      328.00  11776.031250            4            1   \n",
       "10595      579.50      609.25  11560.895508            5            0   \n",
       "10596      173.25      634.25  11488.031250            3            0   \n",
       "\n",
       "       EarliestOccupyTimeFirstTeam  EarliestOccupyTimeSecondTeam  \n",
       "0                         8.199903                     15.538094  \n",
       "1                        12.804793                     13.120758  \n",
       "2                         7.245784                     19.397285  \n",
       "3                        13.451628                      8.742879  \n",
       "4                        15.876244                     11.825044  \n",
       "...                            ...                           ...  \n",
       "10592                     0.404472                     17.929251  \n",
       "10593                    10.745050                     16.382465  \n",
       "10594                    15.058154                      8.052150  \n",
       "10595                    11.585015                     14.865434  \n",
       "10596                     5.609235                     19.288990  \n",
       "\n",
       "[10597 rows x 13 columns]"
      ]
     },
     "execution_count": 59,
     "metadata": {},
     "output_type": "execute_result"
    }
   ],
   "source": [
    "# The map_nav.csv file is a csv with info on every tile on every map\n",
    "# It can be found here: https://github.com/pnxenopoulos/csgo/blob/main/csgo/data/nav/map_nav.csv\n",
    "\n",
    "tileInfo = pd.read_csv('../../../csgo/data/nav/map_nav.csv')\n",
    "tileInfo"
   ]
  },
  {
   "cell_type": "markdown",
   "metadata": {},
   "source": [
    "#### Calculate Extra Tile Data"
   ]
  },
  {
   "cell_type": "code",
   "execution_count": 60,
   "metadata": {
    "scrolled": true
   },
   "outputs": [
    {
     "name": "stderr",
     "output_type": "stream",
     "text": [
      "<ipython-input-60-113f4e899ac3>:2: SettingWithCopyWarning: \n",
      "A value is trying to be set on a copy of a slice from a DataFrame.\n",
      "Try using .loc[row_indexer,col_indexer] = value instead\n",
      "\n",
      "See the caveats in the documentation: https://pandas.pydata.org/pandas-docs/stable/user_guide/indexing.html#returning-a-view-versus-a-copy\n",
      "  curMapTile['TileWidth'] = curMapTile['SouthEastX'] - curMapTile['NorthWestX']\n",
      "<ipython-input-60-113f4e899ac3>:3: SettingWithCopyWarning: \n",
      "A value is trying to be set on a copy of a slice from a DataFrame.\n",
      "Try using .loc[row_indexer,col_indexer] = value instead\n",
      "\n",
      "See the caveats in the documentation: https://pandas.pydata.org/pandas-docs/stable/user_guide/indexing.html#returning-a-view-versus-a-copy\n",
      "  curMapTile['TileHeight'] = curMapTile['NorthWestY'] - curMapTile['SouthEastY']\n",
      "<ipython-input-60-113f4e899ac3>:4: SettingWithCopyWarning: \n",
      "A value is trying to be set on a copy of a slice from a DataFrame.\n",
      "Try using .loc[row_indexer,col_indexer] = value instead\n",
      "\n",
      "See the caveats in the documentation: https://pandas.pydata.org/pandas-docs/stable/user_guide/indexing.html#returning-a-view-versus-a-copy\n",
      "  curMapTile['TileArea'] = curMapTile['TileWidth'] * curMapTile['TileHeight']\n"
     ]
    }
   ],
   "source": [
    "curMapTile = tileInfo[(tileInfo['MapName'] == 'de_inferno')]\n",
    "curMapTile['TileWidth'] = curMapTile['SouthEastX'] - curMapTile['NorthWestX']\n",
    "curMapTile['TileHeight'] = curMapTile['NorthWestY'] - curMapTile['SouthEastY']\n",
    "curMapTile['TileArea'] = curMapTile['TileWidth'] * curMapTile['TileHeight']\n",
    "tileToArea = {}\n",
    "for i in range(len(curMapTile)):\n",
    "    tileToArea[curMapTile['AreaId'].iloc[i]] = curMapTile['TileArea'].iloc[i]\n",
    "#tileToArea"
   ]
  },
  {
   "cell_type": "markdown",
   "metadata": {},
   "source": [
    "### Visualize Map Control Snapshot(s)"
   ]
  },
  {
   "cell_type": "markdown",
   "metadata": {},
   "source": [
    "Now that we have values from the CT and T team for each tile, now we need to map these values to a color value for plotting. For this example we will use Red for T and Green for CT. There are 4 possible cases:\n",
    "1.  a tile only has values from CT (within n tiles from at least one CT tile)\n",
    "2. a tile only has values from T (within n tiles from at least 1 T tile)\n",
    "3. a tile has values from both team (within n tiles from at least 1 T tile\n",
    "4. and a tile doesn't have any values\n",
    "\n",
    "If a tile only has values from one team, the max value is taken from its array of value. This max value is then mapped to a color by scaling the corresponding team's colors ([1, 0, 0] or [0, 1, 0] for this notebook) by the max value. Here's an example that might help. Let's say a tile T_0 has the following values [0.4, 0.8, 0.1] and all of these values were from the CT team. Then the max value for T_0 would be 0.8 and the color for the tile would be 0.8 * [0, 1, 0] = [0, 0.8, 0].\n",
    "\n",
    "If a tile has values from both teams, the ratio between the sum of the CT values and the sum of both the CT and T values, or \n",
    "\n",
    "$$\\frac{sum(Values_{CT})}{sum(Values_{CT}) + sum(Values_{T})}$$\n",
    "\n",
    "Then, like before, this calculated value is linearly mapped to a color where 0 maps to [1, 0, 0] and 1 maps to [0, 1, 0]."
   ]
  },
  {
   "cell_type": "code",
   "execution_count": 61,
   "metadata": {},
   "outputs": [],
   "source": [
    "def plot_map(map_name=\"de_dust2\", map_type=\"original\", dark=False):\n",
    "    # Plots the simpleradar minimap for the wanted map. Code taken from csgo python library\n",
    "    # which can be found here https://github.com/pnxenopoulos/csgo\n",
    "    \n",
    "    map_folder_path = \"../../../csgo/data/map/\"\n",
    "    if map_type == \"original\":\n",
    "        map_bg = plt.imread(map_folder_path + \"\"\"{0}.png\"\"\".format(map_name))\n",
    "    else:\n",
    "        col = \"light\"\n",
    "        if dark:\n",
    "            col = \"dark\"\n",
    "        map_bg = plt.imread(\n",
    "            map_folder_path + \"\"\"{0}_{1}.png\"\"\".format(map_name, col)\n",
    "        )\n",
    "    fig, ax = plt.subplots()\n",
    "    ax.imshow(map_bg, zorder=0)\n",
    "    return fig, ax"
   ]
  },
  {
   "cell_type": "code",
   "execution_count": 62,
   "metadata": {},
   "outputs": [],
   "source": [
    "def plot_map_control_snapshot(tileData, ctTiles, tTiles, map_name = 'de_dust2'):\n",
    "    \"\"\"\n",
    "    Purpose: Visualize map control for the current snapshot.\n",
    "    Tile values are mapped to RGB colors and then plotted.\n",
    "    \n",
    "    Inputs:\n",
    "    tileData -> Pandas df with nav tile metadata for the specific map\n",
    "    \n",
    "    ctTiles -> Dictionary mapping nav tile ID to its array of values\n",
    "    from the CT team. Part of the output from tile_values_snapshot\n",
    "    \n",
    "    tTiles -> Dictionary mapping nav tile ID to its array of values\n",
    "    from the T team. Part of the output from tile_values_snapshot\n",
    "    \n",
    "    map_name -> Name of map such that the correct minimap is plotted.\n",
    "    Used for plot_map function\n",
    "    \n",
    "    Output(s):\n",
    "    f, ax -> figure and axis objects used to visualize the current map control state\n",
    "    \"\"\"\n",
    "    f, ax = plot_map(map_name = map_name, map_type = 'simpleradar', dark = True)\n",
    "    ctTileLocs, tTileLocs = set(ctTiles.keys()), set(tTiles.keys())\n",
    "    ctTileOnly, tTileOnly, bothTiles = ctTileLocs - tTileLocs, tTileLocs - ctTileLocs, ctTileLocs.intersection(tTileLocs)\n",
    "    allRelevantTiles = ctTileLocs.union(tTileLocs)\n",
    "    \n",
    "    #iterate through the tiles that have a value\n",
    "    for curTile in allRelevantTiles:\n",
    "        func_cur_df = tileData[tileData['AreaId'] == curTile]\n",
    "        func_cur_bl_x, func_cur_bl_y = func_cur_df['NorthWestX'].iloc[0], func_cur_df['SouthEastY'].iloc[0]\n",
    "        func_cur_tr_x, func_cur_tr_y = func_cur_df['SouthEastX'].iloc[0], func_cur_df['NorthWestY'].iloc[0]\n",
    "        func_curWidth, func_curHeight = func_cur_tr_x - func_cur_bl_x, func_cur_tr_y - func_cur_bl_y\n",
    "        \n",
    "        if curTile in ctTileLocs - tTileLocs:\n",
    "            curTileValue = max(ctTiles[curTile])\n",
    "            curColor = curTileValue * np.array([0, 1, 0])\n",
    "\n",
    "        elif curTile in tTileLocs - ctTileLocs:\n",
    "            curTileValue = max(tTiles[curTile])\n",
    "            curColor = curTileValue * np.array([1, 0, 0])\n",
    "            \n",
    "        elif curTile in bothTiles:\n",
    "            curTileValue = sum(ctTiles[curTile]) / (sum(ctTiles[curTile]) + sum(tTiles[curTile]))\n",
    "            curColor = curTileValue * np.array([0, 1, 0]) + (1 - curTileValue) * np.array([1, 0, 0])\n",
    "        rect = patches.Rectangle((func_cur_bl_x, func_cur_bl_y), func_curWidth, func_curHeight, linewidth=1, edgecolor= curColor, facecolor = curColor,  alpha = 1.0)\n",
    "        ax.add_patch(rect)\n",
    "    return f, ax\n",
    "\n"
   ]
  },
  {
   "cell_type": "markdown",
   "metadata": {},
   "source": [
    "#### Visualize individual snapshot(s)"
   ]
  },
  {
   "cell_type": "code",
   "execution_count": 63,
   "metadata": {},
   "outputs": [
    {
     "data": {
      "image/png": "[encoded data removed]",
      "text/plain": [
       "<Figure size 432x288 with 1 Axes>"
      ]
     },
     "metadata": {
      "needs_background": "light"
     },
     "output_type": "display_data"
    }
   ],
   "source": [
    "visIdx = 90\n",
    "curF, curAx = plot_map_control_snapshot(curMapTile, tileValuesRound[visIdx][0], tileValuesRound[visIdx][1], map_name = 'de_inferno')\n",
    "\n"
   ]
  },
  {
   "cell_type": "markdown",
   "metadata": {},
   "source": [
    "#### Generate Round Visualization GIF "
   ]
  },
  {
   "cell_type": "code",
   "execution_count": 52,
   "metadata": {},
   "outputs": [
    {
     "name": "stdout",
     "output_type": "stream",
     "text": [
      "0  out of  130\n",
      "10  out of  130\n",
      "20  out of  130\n",
      "30  out of  130\n",
      "40  out of  130\n",
      "50  out of  130\n",
      "60  out of  130\n",
      "70  out of  130\n",
      "80  out of  130\n",
      "90  out of  130\n",
      "100  out of  130\n",
      "110  out of  130\n",
      "120  out of  130\n"
     ]
    }
   ],
   "source": [
    "## create a temporary tmp folder where frames are going to be saved\n",
    "## if you want a GIF of the round\n",
    "    \n",
    "# for i in range(len(tileValuesRound)):\n",
    "#     if i % 10 == 0:\n",
    "#         print(i, ' out of ', len(tileValuesRound))\n",
    "#     curF, curAx = plot_map_control_snapshot(curMapTile, tileValuesRound[i][0], tileValuesRound[i][1], map_name = 'de_inferno')\n",
    "#     plt.axis('off')   \n",
    "#     curF.savefig(fname = './tmp/tmp_' + str(i) + '.png', bbox_inches='tight')\n",
    "#     plt.close(curF)\n"
   ]
  },
  {
   "cell_type": "code",
   "execution_count": 53,
   "metadata": {},
   "outputs": [],
   "source": [
    "# with imageio.get_writer('FAZE-C9-Inferno-31.gif', mode='I') as writer:\n",
    "#     for i in range(len(tileValuesRound)):\n",
    "#         image = imageio.imread('./tmp/tmp_' + str(i) + '.png')\n",
    "#         writer.append_data(image)\n"
   ]
  },
  {
   "cell_type": "markdown",
   "metadata": {},
   "source": [
    "### Future Work"
   ]
  },
  {
   "cell_type": "markdown",
   "metadata": {},
   "source": [
    "With the work I've done so far, I can see a lot of avenues for possible exploration. Here are some of ideas I've already collected (either from myself or from the CS:GO Discord)\n",
    "\n",
    "- Core Metric Changes\n",
    "\n",
    "    - The current method is based on the number of nav tiles along a path between a tile and a player's tile. This can be changed to game distance for more precise boundaries. Also, exact pixel locations could be used isntead of the nav tile locations, which are just a more coarse representation of the map's surfaces.\n",
    "    - Tile value calculations are based on functions whose input was nav tile traversal length in this notebook. Changing this to pixel distance could have similar results as was stated above. Also, since we have the data on each player's weapon, we can estimate how long it should take a player to get to different areas on the map and use time as the input to the functions.\n",
    "    - The previous bullet point mentioned weapons and linked it to the range of a player due to their player slowdown rates. Another way to change the current metric could be to represent the range/impact of a player on the map based on the current weapon and positioning on the map. For example, players with an AK might have a larger range than Deagle players, but the Deagle players might have \"more impact\" or \"more control\" in the short-range surrounding them compared to the AK players.\n",
    "    - Incorporating sight lines into map control is a core component I want to do soon. I think this tweak paired with the bullet point above could be helpful in bringing meaning to the metric/experiments.\n",
    "\n",
    "- Visualization\n",
    "    - I think the visualizations are a bit confusing right now since it's hard to pinpoint where the teams specifically are. Plotting player positions on top of the current graphic is an easy fix I believe.\n",
    "    - Add the internal gameclock or some time metric for reference to the graphics\n",
    "    \n",
    "- Miscellaneous\n",
    "    - Add support for more maps -> **Done! Thanks @ivanhrabcak!**\n",
    "    \n",
    "These are just the ideas I have in attacking some of the probems. I'd love any suggestions/recommendations on these or other tweaks that could be made!\n"
   ]
  },
  {
   "cell_type": "code",
   "execution_count": null,
   "metadata": {},
   "outputs": [],
   "source": []
  }
 ],
 "metadata": {
  "kernelspec": {
   "display_name": "Python 3",
   "language": "python",
   "name": "python3"
  },
  "language_info": {
   "codemirror_mode": {
    "name": "ipython",
    "version": 3
   },
   "file_extension": ".py",
   "mimetype": "text/x-python",
   "name": "python",
   "nbconvert_exporter": "python",
   "pygments_lexer": "ipython3",
   "version": "3.8.5"
  }
 },
 "nbformat": 4,
 "nbformat_minor": 4
}
